{
 "cells": [
  {
   "cell_type": "code",
   "execution_count": 1,
   "id": "c56a41c6",
   "metadata": {},
   "outputs": [
    {
     "data": {
      "text/plain": [
       "True"
      ]
     },
     "execution_count": 1,
     "metadata": {},
     "output_type": "execute_result"
    }
   ],
   "source": [
    "from langchain_groq import ChatGroq\n",
    "from dotenv import load_dotenv\n",
    "\n",
    "import os\n",
    "from langchain_huggingface import HuggingFaceEmbeddings\n",
    "import faiss\n",
    "from langchain.agents.agent_toolkits import SQLDatabaseToolkit\n",
    "from langchain_community.utilities import SQLDatabase\n",
    "from langchain.agents import initialize_agent, AgentType\n",
    "\n",
    "load_dotenv()"
   ]
  },
  {
   "cell_type": "code",
   "execution_count": 2,
   "id": "af40c218",
   "metadata": {},
   "outputs": [],
   "source": [
    "os.environ[\"GROQ_API_KEY\"] = os.getenv(\"GROQ_API_KEY\")\n",
    "os.environ[\"LANGCHAIN_API_KEY\"] = os.getenv(\"LANGCHAIN_API_KEY\")\n",
    "os.environ[\"LANGCHAIN_PROJECT\"] = \"ConversationalAIBot\"\n",
    "os.environ[\"LANGCHAIN_TRACING_V2\"] = \"true\"\n",
    "os.environ[\"HUGGINGFACE_API_KEY\"] = os.getenv(\"HUGGINGFACE_API_KEY\")"
   ]
  },
  {
   "cell_type": "markdown",
   "id": "af21ec13",
   "metadata": {},
   "source": [
    "Embedding Model"
   ]
  },
  {
   "cell_type": "code",
   "execution_count": 3,
   "id": "9ccb8f76",
   "metadata": {},
   "outputs": [
    {
     "name": "stderr",
     "output_type": "stream",
     "text": [
      "C:\\Users\\v-niranr\\AppData\\Local\\Temp\\ipykernel_32912\\3273188620.py:4: LangChainDeprecationWarning: The class `HuggingFaceEmbeddings` was deprecated in LangChain 0.2.2 and will be removed in 1.0. An updated version of the class exists in the :class:`~langchain-huggingface package and should be used instead. To use it run `pip install -U :class:`~langchain-huggingface` and import as `from :class:`~langchain_huggingface import HuggingFaceEmbeddings``.\n",
      "  embedding_model = HuggingFaceEmbeddings(model_name=\"sentence-transformers/all-MiniLM-L6-v2\", model_kwargs = {\"device\" : \"cpu\"})\n",
      "c:\\Users\\v-niranr\\OneDrive - Microsoft\\Desktop\\Telecom Usecase\\.venv\\lib\\site-packages\\tqdm\\auto.py:21: TqdmWarning: IProgress not found. Please update jupyter and ipywidgets. See https://ipywidgets.readthedocs.io/en/stable/user_install.html\n",
      "  from .autonotebook import tqdm as notebook_tqdm\n"
     ]
    },
    {
     "data": {
      "text/plain": [
       "HuggingFaceEmbeddings(client=SentenceTransformer(\n",
       "  (0): Transformer({'max_seq_length': 256, 'do_lower_case': False}) with Transformer model: BertModel \n",
       "  (1): Pooling({'word_embedding_dimension': 384, 'pooling_mode_cls_token': False, 'pooling_mode_mean_tokens': True, 'pooling_mode_max_tokens': False, 'pooling_mode_mean_sqrt_len_tokens': False, 'pooling_mode_weightedmean_tokens': False, 'pooling_mode_lasttoken': False, 'include_prompt': True})\n",
       "  (2): Normalize()\n",
       "), model_name='sentence-transformers/all-MiniLM-L6-v2', cache_folder=None, model_kwargs={'device': 'cpu'}, encode_kwargs={}, multi_process=False, show_progress=False)"
      ]
     },
     "execution_count": 3,
     "metadata": {},
     "output_type": "execute_result"
    }
   ],
   "source": [
    "#Vector Embeddings (Embedding Model Output features : 384)\n",
    "\n",
    "from langchain.embeddings import HuggingFaceEmbeddings\n",
    "embedding_model = HuggingFaceEmbeddings(model_name=\"sentence-transformers/all-MiniLM-L6-v2\", model_kwargs = {\"device\" : \"cpu\"})\n",
    "embedding_model"
   ]
  },
  {
   "cell_type": "markdown",
   "id": "29892ce4",
   "metadata": {},
   "source": [
    "LLM Model"
   ]
  },
  {
   "cell_type": "code",
   "execution_count": 4,
   "id": "92ce4cb0",
   "metadata": {},
   "outputs": [],
   "source": [
    "model = ChatGroq(temperature=0, model_name=\"deepseek-r1-distill-llama-70b\", streaming=True)"
   ]
  },
  {
   "cell_type": "code",
   "execution_count": 5,
   "id": "d3e96d46",
   "metadata": {},
   "outputs": [
    {
     "name": "stdout",
     "output_type": "stream",
     "text": [
      "<think>\n",
      "\n",
      "</think>\n",
      "\n",
      "Hello! How can I assist you today? 😊\n"
     ]
    }
   ],
   "source": [
    "#Check \n",
    "\n",
    "print(model.invoke(\"Hi Google\").content)"
   ]
  },
  {
   "cell_type": "markdown",
   "id": "c50ec94a",
   "metadata": {},
   "source": [
    "Loading Vector Database"
   ]
  },
  {
   "cell_type": "code",
   "execution_count": null,
   "id": "54cc7fdf",
   "metadata": {},
   "outputs": [],
   "source": [
    "import pandas as pd\n",
    "from langchain_community.vectorstores import FAISS\n",
    "from langchain_community.embeddings import HuggingFaceEmbeddings\n",
    "from langchain.text_splitter import CharacterTextSplitter\n",
    "from langchain.schema import Document\n",
    "\n",
    "# Step 1: Load your CSV file\n",
    "df = pd.read_csv(r'C:\\Users\\v-niranr\\OneDrive - Microsoft\\Desktop\\Telecom Usecase\\Data\\bitext-telco-llm-chatbot-training-dataset.csv')  # Replace with your filename\n",
    "\n",
    "# Step 2: Convert each row to a readable text block\n",
    "text_data = []\n",
    "for _, row in df.iterrows():\n",
    "    text_block = \"\\n\".join([f\"{col}: {row[col]}\" for col in df.columns])\n",
    "    text_data.append(text_block)\n",
    "\n",
    "# Step 3: Optional – Split long text blocks\n",
    "splitter = CharacterTextSplitter(chunk_size=500, chunk_overlap=50)\n",
    "texts = []\n",
    "for block in text_data:\n",
    "    texts.extend(splitter.split_text(block))\n",
    "\n",
    "# Step 4: Create LangChain Document objects\n",
    "documents = [Document(page_content=t) for t in texts]\n",
    "\n",
    "# # Step 5: Load embedding model\n",
    "# embedding_model = HuggingFaceEmbeddings(model_name=\"all-MiniLM-L6-v2\")\n",
    "\n",
    "# Step 6: Create FAISS DB\n",
    "vector_db = FAISS.from_documents(documents, embedding_model)\n",
    "\n",
    "# Step 7: Save DB locally\n",
    "vector_db.save_local(\".telecomusecase_FAISS_DB\")\n",
    "\n",
    "print(\"✅ CSV data embedded and saved to FAISS DB.\")\n"
   ]
  },
  {
   "cell_type": "code",
   "execution_count": 43,
   "id": "2e235c54",
   "metadata": {},
   "outputs": [],
   "source": [
    "#Local\n",
    "from langchain_community.vectorstores import FAISS\n",
    "from langchain_community.docstore import InMemoryDocstore\n",
    "\n",
    "local_vector_db = FAISS.load_local(\".telecomusecase_FAISS_DB\",\n",
    "                                    embeddings=embedding_model,\n",
    "                                    allow_dangerous_deserialization=True)"
   ]
  },
  {
   "cell_type": "code",
   "execution_count": 7,
   "id": "a9899185",
   "metadata": {},
   "outputs": [
    {
     "data": {
      "text/plain": [
       "[Document(id='be08df17-4d74-439c-ab04-c794e21568bb', metadata={}, page_content='instruction: i got to report poor internet signal covedrage i need help\\nintent: report_poor_signal_coverage\\ncategory: COMPLAINTS\\ntags: BCLQZ\\nresponse: We recognize the importance of reliable signal coverage for effective communication. Please follow the steps below to report any issues you are experiencing with poor signal coverage:'),\n",
       " Document(id='a3b8c6c0-0701-4c44-a1ee-7bd99e4a07b1', metadata={}, page_content='This procedure will furnish you with details pertaining to the internet solutions available in your vicinity. Should you require additional support, do not hesitate to reach out.')]"
      ]
     },
     "execution_count": 7,
     "metadata": {},
     "output_type": "execute_result"
    }
   ],
   "source": [
    "vector_db = local_vector_db.as_retriever(search_kwargs={\"k\":2})\n",
    "\n",
    "vector_db.invoke(\"I am facing internet issues and my screen is buffereing\")"
   ]
  },
  {
   "cell_type": "markdown",
   "id": "2fda059e",
   "metadata": {},
   "source": [
    "#### Lang Graph Workflow"
   ]
  },
  {
   "cell_type": "markdown",
   "id": "a490ef50",
   "metadata": {},
   "source": [
    "For Intent classification Using Pydantic output Parser"
   ]
  },
  {
   "cell_type": "code",
   "execution_count": 9,
   "id": "21a3129d",
   "metadata": {},
   "outputs": [],
   "source": [
    "from typing import TypedDict, List, Optional\n",
    "\n",
    "class AgentState(TypedDict):\n",
    "    messages: List\n",
    "    customer_id: Optional[str]\n",
    "    intent: Optional[str]\n",
    "    user_query: Optional[str]\n",
    "    customer_data: Optional[str]\n",
    "    retrieved_context: Optional[str]"
   ]
  },
  {
   "cell_type": "code",
   "execution_count": 10,
   "id": "d6f6b8cb",
   "metadata": {},
   "outputs": [],
   "source": [
    "#Using pydantic\n",
    "\n",
    "from pydantic import BaseModel, Field\n",
    "from langchain.output_parsers import PydanticOutputParser\n",
    "\n",
    "class Intent_Classifier(BaseModel):\n",
    "    \"\"\"Intent Classifier\"\"\"\n",
    "    customer_id: str = Field(description=\"The customer ID in the format CUSTXXXX\")\n",
    "    intent: str = Field(description=\"Intent of the user query\")\n",
    "    query: str = Field(description=\"User query\")\n",
    "    Reasoning: str = Field(description='Reasoning behind topic selection')\n",
    "\n",
    "\n",
    "parser = PydanticOutputParser(pydantic_object=Intent_Classifier)"
   ]
  },
  {
   "cell_type": "code",
   "execution_count": 11,
   "id": "65764018",
   "metadata": {},
   "outputs": [
    {
     "name": "stdout",
     "output_type": "stream",
     "text": [
      "The output should be formatted as a JSON instance that conforms to the JSON schema below.\n",
      "\n",
      "As an example, for the schema {\"properties\": {\"foo\": {\"title\": \"Foo\", \"description\": \"a list of strings\", \"type\": \"array\", \"items\": {\"type\": \"string\"}}}, \"required\": [\"foo\"]}\n",
      "the object {\"foo\": [\"bar\", \"baz\"]} is a well-formatted instance of the schema. The object {\"properties\": {\"foo\": [\"bar\", \"baz\"]}} is not well-formatted.\n",
      "\n",
      "Here is the output schema:\n",
      "```\n",
      "{\"description\": \"Intent Classifier\", \"properties\": {\"customer_id\": {\"description\": \"The customer ID in the format CUSTXXXX\", \"title\": \"Customer Id\", \"type\": \"string\"}, \"intent\": {\"description\": \"Intent of the user query\", \"title\": \"Intent\", \"type\": \"string\"}, \"query\": {\"description\": \"User query\", \"title\": \"Query\", \"type\": \"string\"}, \"Reasoning\": {\"description\": \"Reasoning behind topic selection\", \"title\": \"Reasoning\", \"type\": \"string\"}}, \"required\": [\"customer_id\", \"intent\", \"query\", \"Reasoning\"]}\n",
      "```\n"
     ]
    }
   ],
   "source": [
    "print(parser.get_format_instructions())"
   ]
  },
  {
   "cell_type": "markdown",
   "id": "7de4551a",
   "metadata": {},
   "source": [
    "Creating State Graph using Langflow"
   ]
  },
  {
   "cell_type": "code",
   "execution_count": 12,
   "id": "4a64cdf0",
   "metadata": {},
   "outputs": [],
   "source": [
    "import operator\n",
    "from typing import List\n",
    "from langchain.prompts import PromptTemplate\n",
    "from typing import TypedDict, Annotated, Sequence\n",
    "from langchain_core.messages import BaseMessage\n",
    "from langchain_core.prompts import ChatPromptTemplate, PromptTemplate\n",
    "from langchain_core.runnables import RunnablePassthrough\n",
    "from langchain_core.messages import HumanMessage, AIMessage\n",
    "from langchain_core.tools import tool\n",
    "from langgraph.graph import StateGraph,MessagesState,START,END\n",
    "from langgraph.prebuilt import ToolNode"
   ]
  },
  {
   "cell_type": "code",
   "execution_count": 13,
   "id": "aa28f636",
   "metadata": {},
   "outputs": [],
   "source": [
    "llm = ChatGroq(temperature=0, model_name=\"deepseek-r1-distill-llama-70b\", streaming=True)"
   ]
  },
  {
   "cell_type": "code",
   "execution_count": null,
   "id": "8338e3a9",
   "metadata": {},
   "outputs": [],
   "source": [
    "# #Defining State\n",
    "# class AgentState(TypedDict):\n",
    "#     messages: Annotated[Sequence[BaseMessage], operator.add]"
   ]
  },
  {
   "cell_type": "markdown",
   "id": "f3094357",
   "metadata": {},
   "source": [
    "Supervisor Node"
   ]
  },
  {
   "cell_type": "code",
   "execution_count": 14,
   "id": "6e44a81c",
   "metadata": {},
   "outputs": [],
   "source": [
    "from langchain.prompts import PromptTemplate\n",
    "\n",
    "def supervisor_node(state: AgentState) -> AgentState:\n",
    "    print(\"--------------------------Supervisor---------------------------\")\n",
    "    user_question = state[\"messages\"][-1].content\n",
    "\n",
    "    template  = \"\"\"\n",
    "        You are a telecom assistant that classifies the user's intent into one of the following:\n",
    "    - Plan: If the user is asking about mobile, broadband, or 5G plans.\n",
    "    - Complaint: If the user is reporting issues like network outage, slow internet, or billing problems.\n",
    "    - Other: For greetings, general questions, or unrelated topics.\n",
    "\n",
    "    Your job is to classify the intent and explain your reasoning.\n",
    "\n",
    "    User Query: {question}\n",
    "\n",
    "    {format_instructions}\n",
    "    \"\"\"\n",
    "    prompt = PromptTemplate(\n",
    "        input_variable = [\"question\"],\n",
    "        partial_variables={\"format_instructions\": parser.get_format_instructions()},\n",
    "        template = template\n",
    "    )\n",
    "\n",
    "    chain = prompt | llm | parser\n",
    "\n",
    "    response  = chain.invoke({\"question\":user_question})\n",
    "\n",
    "    print(\"Parsed Response: \", response)\n",
    "\n",
    "    # return {\n",
    "    #     \"messages\": [\n",
    "    #         AIMessage(content=response.intent),\n",
    "    #         HumanMessage(content=response.Reasoning)\n",
    "    #     ],\n",
    "    #     \"customer_id\": response.customer_id,\n",
    "    #     \"user_query\": response.query,\n",
    "    #     \"intent\": response.intent\n",
    "    # }\n",
    "\n",
    "    return {\n",
    "        \"messages\": state[\"messages\"] + [\n",
    "            AIMessage(content=f\"Intent: {response.intent}\"),\n",
    "            AIMessage(content=f\"Reasoning: {response.Reasoning}\"),\n",
    "            AIMessage(content=f\"Customer ID: {response.customer_id}\")\n",
    "        ],\n",
    "        \"customer_id\": response.customer_id,\n",
    "        \"intent\": response.intent,\n",
    "        \"user_query\": response.query,\n",
    "        \"original_intent\": response.intent\n",
    "    }"
   ]
  },
  {
   "cell_type": "code",
   "execution_count": 15,
   "id": "890a3236",
   "metadata": {},
   "outputs": [
    {
     "name": "stdout",
     "output_type": "stream",
     "text": [
      "--------------------------Supervisor---------------------------\n",
      "Parsed Response:  customer_id='CUST1001' intent='Plan' query='My Plan is not sufficient and i need more data what can I do My ID is CUST1001?' Reasoning='The user is discussing their current plan and the need for more data, indicating they are looking to adjust their plan.'\n"
     ]
    },
    {
     "data": {
      "text/plain": [
       "{'messages': [HumanMessage(content='My Plan is not sufficient and i need more data what can I do My ID is CUST1001?', additional_kwargs={}, response_metadata={}),\n",
       "  AIMessage(content='Intent: Plan', additional_kwargs={}, response_metadata={}),\n",
       "  AIMessage(content='Reasoning: The user is discussing their current plan and the need for more data, indicating they are looking to adjust their plan.', additional_kwargs={}, response_metadata={}),\n",
       "  AIMessage(content='Customer ID: CUST1001', additional_kwargs={}, response_metadata={})],\n",
       " 'customer_id': 'CUST1001',\n",
       " 'intent': 'Plan',\n",
       " 'user_query': 'My Plan is not sufficient and i need more data what can I do My ID is CUST1001?',\n",
       " 'original_intent': 'Plan'}"
      ]
     },
     "execution_count": 15,
     "metadata": {},
     "output_type": "execute_result"
    }
   ],
   "source": [
    "#check\n",
    "state = {\n",
    "    \"messages\": [\n",
    "        HumanMessage(content=\"My Plan is not sufficient and i need more data what can I do My ID is CUST1001?\")\n",
    "    ]\n",
    "}\n",
    "supervisor_node(state)\n",
    "\n",
    "# state = {\n",
    "#     \"messages\": [\n",
    "#         HumanMessage(content=\"I am facing buffering issue with my plan and there is no speed in 5G band and though I pay for 5G\")\n",
    "#     ]\n",
    "# }\n",
    "# supervisor_node(state)"
   ]
  },
  {
   "cell_type": "code",
   "execution_count": null,
   "id": "33d9bfb5",
   "metadata": {},
   "outputs": [],
   "source": [
    "# result.get(\"customer_id\")"
   ]
  },
  {
   "cell_type": "markdown",
   "id": "3cf5f03a",
   "metadata": {},
   "source": [
    "Creating SQL Agent"
   ]
  },
  {
   "cell_type": "code",
   "execution_count": 16,
   "id": "02346ab0",
   "metadata": {},
   "outputs": [],
   "source": [
    "from langchain_groq import ChatGroq\n",
    "from langchain_community.utilities import SQLDatabase\n",
    "from langchain_community.agent_toolkits import SQLDatabaseToolkit\n",
    "from langchain_core.tools import Tool\n",
    "from langchain.agents import AgentExecutor, create_openai_functions_agent\n",
    "import re\n",
    "from langchain.agents import initialize_agent"
   ]
  },
  {
   "cell_type": "code",
   "execution_count": 17,
   "id": "aaa01128",
   "metadata": {},
   "outputs": [
    {
     "name": "stderr",
     "output_type": "stream",
     "text": [
      "C:\\Users\\v-niranr\\AppData\\Local\\Temp\\ipykernel_32912\\450905641.py:6: LangChainDeprecationWarning: LangChain agents will continue to be supported, but it is recommended for new use cases to be built with LangGraph. LangGraph offers a more flexible and full-featured framework for building agents, including support for tool-calling, persistence of state, and human-in-the-loop workflows. For details, refer to the `LangGraph documentation <https://langchain-ai.github.io/langgraph/>`_ as well as guides for `Migrating from AgentExecutor <https://python.langchain.com/docs/how_to/migrate_agent/>`_ and LangGraph's `Pre-built ReAct agent <https://langchain-ai.github.io/langgraph/how-tos/create-react-agent/>`_.\n",
      "  agent_executor = initialize_agent(\n"
     ]
    }
   ],
   "source": [
    "sql_llm = ChatGroq(model=\"gemma2-9b-it\", temperature=0.2,streaming=True)\n",
    "\n",
    "db = SQLDatabase.from_uri(\"sqlite:///C:/Users/v-niranr/OneDrive - Microsoft/Desktop/Telecom Usecase/Data/telecom_usecase.db\")\n",
    "toolkit = SQLDatabaseToolkit(db=db, llm=sql_llm)\n",
    "\n",
    "agent_executor = initialize_agent(\n",
    "    tools=toolkit.get_tools(),\n",
    "    llm=sql_llm,\n",
    "    agent=\"zero-shot-react-description\",\n",
    "    verbose=True\n",
    ")\n",
    "\n",
    "# C:\\Users\\v-niranr\\OneDrive - Microsoft\\Desktop\\Telecom Usecase\\telecom_customer.db\n",
    "# C:\\Users\\v-niranr\\OneDrive - Microsoft\\Desktop\\Telecom Usecase\\Data\\telecom_usecase.db"
   ]
  },
  {
   "cell_type": "code",
   "execution_count": 18,
   "id": "309afaa8",
   "metadata": {},
   "outputs": [],
   "source": [
    "import json \n",
    "import re\n",
    "\n",
    "def extract_json_from_string(text: str) -> dict:\n",
    "    text = text.strip(\"` \\n\")\n",
    "    match = re.search(r\"\\{.*\\}\", text, re.DOTALL)\n",
    "    if not match:\n",
    "        raise ValueError(\"No JSON object found in response.\")\n",
    "    json_str = match.group(0)\n",
    "    json_str = json_str.replace(\"\\\\x93\", \"-\").replace(\"'\", '\"')\n",
    "    return json.loads(json_str)\n",
    "\n",
    "def SQL_agent(state: dict) -> dict:\n",
    "\n",
    "    print(\"------------ SQL Agent Node ------------\")\n",
    "\n",
    "    customer_id = state.get(\"customer_id\")\n",
    "    if not customer_id:\n",
    "        return {\n",
    "            **state,\n",
    "            \"messages\": state[\"messages\"] + [(\"assistant\", \"Customer ID is missing.\")],\n",
    "            \"customer_data\": None\n",
    "        }\n",
    "\n",
    "    query = f\"Get customer details for ID '{customer_id}' from the 'customers' table. Respond only with the result in JSON format.\"\n",
    "\n",
    "    response = agent_executor.invoke({\"input\": query})\n",
    "    full_output = response.get(\"output\", str(response))\n",
    "\n",
    "    try:\n",
    "        parsed_data = extract_json_from_string(full_output)\n",
    "    except Exception as e:\n",
    "        parsed_data = None\n",
    "        full_output += f\"\\n\\n Parsing error: {str(e)}\"\n",
    "\n",
    "    return {\n",
    "        **state,\n",
    "        \"messages\": state[\"messages\"] + [(\"assistant\", full_output)],\n",
    "        \"customer_data\": parsed_data\n",
    "}"
   ]
  },
  {
   "cell_type": "code",
   "execution_count": 20,
   "id": "5dfee745",
   "metadata": {},
   "outputs": [
    {
     "name": "stdout",
     "output_type": "stream",
     "text": [
      "------------ SQL Agent Node ------------\n",
      "\n",
      "\n",
      "\u001b[1m> Entering new AgentExecutor chain...\u001b[0m\n",
      "\u001b[32;1m\u001b[1;3mThought: I need to construct a SQL query to select customer details for a specific ID from the 'customers' table. \n",
      "Action: sql_db_query_checker\n",
      "Action Input: SELECT * FROM customers WHERE customer_id = 'CUST1011'\u001b[0m\n",
      "Observation: \u001b[36;1m\u001b[1;3mSELECT * FROM customers WHERE customer_id = 'CUST1011' \n",
      "\u001b[0m\n",
      "Thought:\u001b[32;1m\u001b[1;3mThought: The query looks correct. I can execute it now.\n",
      "Action: sql_db_query\n",
      "Action Input: SELECT * FROM customers WHERE customer_id = 'CUST1011'\u001b[0m\n",
      "Observation: \u001b[36;1m\u001b[1;3mError: (sqlite3.OperationalError) no such table: customers\n",
      "[SQL: SELECT * FROM customers WHERE customer_id = 'CUST1011']\n",
      "(Background on this error at: https://sqlalche.me/e/20/e3q8)\u001b[0m\n",
      "Thought:\u001b[32;1m\u001b[1;3mThought: The error message indicates that the 'customers' table doesn't exist in the database. I need to check the available tables first.\n",
      "Action: sql_db_list_tables\n",
      "Action Input: \u001b[0m\n",
      "Observation: \u001b[38;5;200m\u001b[1;3mtelecom_customer_table\u001b[0m\n",
      "Thought:\u001b[32;1m\u001b[1;3mThought: I need to adjust the query to use the correct table name.\n",
      "Action: sql_db_query_checker\n",
      "Action Input: SELECT * FROM telecom_customer_table WHERE customer_id = 'CUST1011'\u001b[0m\n",
      "Observation: \u001b[36;1m\u001b[1;3mSELECT * FROM telecom_customer_table WHERE customer_id = 'CUST1011' \n",
      "\u001b[0m\n",
      "Thought:\u001b[32;1m\u001b[1;3mThought: The query looks correct. I can execute it now.\n",
      "Action: sql_db_query\n",
      "Action Input: SELECT * FROM telecom_customer_table WHERE customer_id = 'CUST1011'\u001b[0m\n",
      "Observation: \u001b[36;1m\u001b[1;3mError: (sqlite3.OperationalError) no such column: customer_id\n",
      "[SQL: SELECT * FROM telecom_customer_table WHERE customer_id = 'CUST1011']\n",
      "(Background on this error at: https://sqlalche.me/e/20/e3q8)\u001b[0m\n",
      "Thought:\u001b[32;1m\u001b[1;3mThought:Thought: The error message indicates that the 'customer_id' column doesn't exist in the 'telecom_customer_table'. I need to check the table schema to find the correct column name.\n",
      "Action: sql_db_schema\n",
      "Action Input: telecom_customer_table\u001b[0m\n",
      "Observation: \u001b[33;1m\u001b[1;3m\n",
      "CREATE TABLE telecom_customer_table (\n",
      "\t\"Customer ID\" TEXT, \n",
      "\t\"Customer Name\" TEXT, \n",
      "\t\"Age\" INTEGER, \n",
      "\t\"Gender\" TEXT, \n",
      "\t\"Location\" TEXT, \n",
      "\t\"Plan Subscribed\" TEXT, \n",
      "\t\"Device Used\" TEXT, \n",
      "\t\"Plan Details\" TEXT, \n",
      "\t\"Network Type\" TEXT, \n",
      "\t\"Join Date\" TEXT, \n",
      "\t\"Recent Issue Reported\" TEXT, \n",
      "\t\"Response Provided\" TEXT\n",
      ")\n",
      "\n",
      "/*\n",
      "3 rows from telecom_customer_table table:\n",
      "Customer ID\tCustomer Name\tAge\tGender\tLocation\tPlan Subscribed\tDevice Used\tPlan Details\tNetwork Type\tJoin Date\tRecent Issue Reported\tResponse Provided\n",
      "CUST1000\tRicky Ward\t44\tNon-Binary\tSethhaven\tBasic Plan\tSamsung Galaxy S22\tCosts $20to“$30/month, includes 5 GB high-speed data, unlimited calls, 1000 SMS/month, 128 Kbps afte\tLTE\t21-02-2025\tSlow internet speed\tWe are sorry. We will ship a new one.\n",
      "CUST1001\tMallory Graham\t18\tFemale\tWest Garymouth\tUnlimited Plan\tSamsung Galaxy S22\tCosts $30to“$50/month, truly unlimited data (FUP after ~50 GB), unlimited calls & SMS, 1 Mbps after \tLTE\t26-09-2024\tForgot password\tWe're expanding network towers to improve coverage.\n",
      "CUST1002\tTravis Howe\t25\tMale\tKimberlyton\tFamily Plan\tiPhone 14\tCosts $60to“$100/month (3to“5 lines), shared 50to“100 GB data, unlimited calls & SMS for all lines, \tLTE\t13-02-2024\tCannot make international calls\tWe have escalated the voicemail issue to our tech team.\n",
      "*/\u001b[0m\n",
      "Thought:\u001b[32;1m\u001b[1;3mThought: The schema shows that the customer ID is stored as \"Customer ID\". I need to adjust the query accordingly.\n",
      "Action: sql_db_query_checker\n",
      "Action Input: SELECT * FROM telecom_customer_table WHERE \"Customer ID\" = 'CUST1011'\u001b[0m\n",
      "Observation: \u001b[36;1m\u001b[1;3mSELECT * FROM telecom_customer_table WHERE \"Customer ID\" = 'CUST1011' \n",
      "\u001b[0m\n",
      "Thought:\u001b[32;1m\u001b[1;3mThought:Thought: The query looks correct. I can execute it now.\n",
      "Action: sql_db_query\n",
      "Action Input: SELECT * FROM telecom_customer_table WHERE \"Customer ID\" = 'CUST1011'\u001b[0m\n",
      "Observation: \u001b[36;1m\u001b[1;3m[('CUST1011', 'Frank Lester', 46, 'Male', 'New Rebecca', 'Data-Only Plan', 'Samsung Galaxy S22', 'Costs $15to“$25/month, offers 10to“20 GB high-speed data, no calls/SMS, 512 Kbps after limit, supports tethering and hotspot use.', 'LTE', '23-10-2023', 'No network coverage in area', 'We are sorry. We will ship a new one.')]\u001b[0m\n",
      "Thought:\u001b[32;1m\u001b[1;3mThought: I now know the final answer\n",
      "Final Answer: {\"Customer ID\": \"CUST1011\", \"Customer Name\": \"Frank Lester\", \"Age\": 46, \"Gender\": \"Male\", \"Location\": \"New Rebecca\", \"Plan Subscribed\": \"Data-Only Plan\", \"Device Used\": \"Samsung Galaxy S22\", \"Plan Details\": \"Costs $15to“$25/month, offers 10to“20 GB high-speed data, no calls/SMS, 512 Kbps after limit, supports tethering and hotspot use.\", \"Network Type\": \"LTE\", \"Join Date\": \"23-10-2023\", \"Recent Issue Reported\": \"No network coverage in area\", \"Response Provided\": \"We are sorry. We will ship a new one.\"} \n",
      "\n",
      "\n",
      "\u001b[0m\n",
      "\n",
      "\u001b[1m> Finished chain.\u001b[0m\n",
      "{'Customer ID': 'CUST1011', 'Customer Name': 'Frank Lester', 'Age': 46, 'Gender': 'Male', 'Location': 'New Rebecca', 'Plan Subscribed': 'Data-Only Plan', 'Device Used': 'Samsung Galaxy S22', 'Plan Details': 'Costs $15to“$25/month, offers 10to“20 GB high-speed data, no calls/SMS, 512 Kbps after limit, supports tethering and hotspot use.', 'Network Type': 'LTE', 'Join Date': '23-10-2023', 'Recent Issue Reported': 'No network coverage in area', 'Response Provided': 'We are sorry. We will ship a new one.'}\n"
     ]
    }
   ],
   "source": [
    "state = {\n",
    "    \"customer_id\": \"CUST1011\",\n",
    "    \"messages\": [(\"user\", \"Tell me about my current plan\")]\n",
    "}\n",
    "\n",
    "new_state = SQL_agent(state)\n",
    "print(new_state[\"customer_data\"])"
   ]
  },
  {
   "cell_type": "markdown",
   "id": "76555052",
   "metadata": {},
   "source": [
    "RAG Agent"
   ]
  },
  {
   "cell_type": "code",
   "execution_count": null,
   "id": "56be65e7",
   "metadata": {},
   "outputs": [],
   "source": [
    "# from langchain_core.tools import tool\n",
    "\n",
    "# def RAG_agent(state:AgentState) -> AgentState:\n",
    "#     query = state.get(\"user_query\")\n",
    "#     \"\"\"\n",
    "#     Combines the user query and SQL customer context to retrieve the most relevant information \n",
    "#     from the vector DB (e.g. troubleshooting guides, plan info, etc.).\n",
    "\n",
    "#     Parameters:\n",
    "#     - query (str): The user's original question (e.g., \"Why is my network slow?\")\n",
    "#     - customer_context (str): The context retrieved from SQL agent (e.g., customer location, plan, device)\n",
    "\n",
    "#     Returns:\n",
    "#     - str: Top-k retrieved document contents concatenated.\n",
    "#     \"\"\"\n",
    "#     retriever = local_vector_db.as_retriever(search_kwargs={\"k\":2})\n",
    "#     documents = retriever.invoke(query)\n",
    "\n",
    "#     context = \"\\n\\n\".join([doc.page_content for doc in documents])\n",
    "#     return {\n",
    "#     \"messages\": state[\"messages\"] + [AIMessage(content=context)],\n",
    "#     \"retrieved_context\": context\n",
    "# }  \n",
    "#  # Print first 200 characters\n"
   ]
  },
  {
   "cell_type": "code",
   "execution_count": 50,
   "id": "7cb716cb",
   "metadata": {},
   "outputs": [],
   "source": [
    "from langchain_core.tools import tool\n",
    "from langchain_core.messages import AIMessage\n",
    "\n",
    "def RAG_agent(state: AgentState) -> AgentState:\n",
    "    print(\"--------------------------RAG Agent Node---------------------------\")\n",
    "    query = state.get(\"user_query\")\n",
    "\n",
    "    \"\"\"\n",
    "    Combines the user query and SQL customer context to retrieve the most relevant information \n",
    "    from the vector DB (e.g. troubleshooting guides, plan info, etc.).\n",
    "\n",
    "    Parameters:\n",
    "    - query (str): The user's original question (e.g., \"Why is my network slow?\")\n",
    "    - customer_context (str): The context retrieved from SQL agent (e.g., customer location, plan, device)\n",
    "\n",
    "    Returns:\n",
    "    - str: Top-k retrieved document contents concatenated.\n",
    "    \"\"\"\n",
    "\n",
    "    # Assuming local_vector_db is already loaded globally with embeddings\n",
    "    retriever = local_vector_db.as_retriever(search_kwargs={\"k\": 1})\n",
    "    documents = retriever.invoke(query)\n",
    "\n",
    "    context = \"\\n\\n\".join([doc.page_content for doc in documents])\n",
    "\n",
    "    print(f\"Retrieved context for query '{query}':\\n{context}\\n\")\n",
    "\n",
    "    return {\n",
    "        \"messages\": state[\"messages\"] + [AIMessage(content=context)],\n",
    "        \"retrieved_context\": context\n",
    "    }\n"
   ]
  },
  {
   "cell_type": "code",
   "execution_count": null,
   "id": "2a6921fb",
   "metadata": {},
   "outputs": [
    {
     "name": "stdout",
     "output_type": "stream",
     "text": [
      "--------------------------RAG Agent Node---------------------------\n",
      "Retrieved context for query 'I am facing internet issues and my screen is buffering':\n",
      "instruction: i got to report poor internet signal covedrage i need help\n",
      "intent: report_poor_signal_coverage\n",
      "category: COMPLAINTS\n",
      "tags: BCLQZ\n",
      "response: We recognize the importance of reliable signal coverage for effective communication. Please follow the steps below to report any issues you are experiencing with poor signal coverage:\n",
      "\n",
      "instruction: i got to report poor internet signal covedrage i need help\n",
      "intent: report_poor_signal_coverage\n",
      "category: COMPLAINTS\n",
      "tags: BCLQZ\n",
      "response: We recognize the importance of reliable signal coverage for effective communication. Please follow the steps below to report any issues you are experiencing with poor signal coverage:\n"
     ]
    }
   ],
   "source": [
    "# # Simulate a fake state to test\n",
    "# fake_state = {\n",
    "#     \"user_query\": \"I am facing internet issues and my screen is buffering\",\n",
    "#     \"messages\": []\n",
    "# }\n",
    "\n",
    "# # Test the node\n",
    "# updated_state = RAG_agent(fake_state)\n",
    "\n",
    "# # Print output\n",
    "# print(updated_state[\"retrieved_context\"])\n"
   ]
  },
  {
   "cell_type": "code",
   "execution_count": null,
   "id": "cb47e62c",
   "metadata": {},
   "outputs": [],
   "source": [
    "# # RAG Node\n",
    "# def RAG_agent(state: AgentState) -> AgentState:\n",
    "#     input_msg = state[\"messages\"][-1][1]\n",
    "#     rag_response = retrieval_qa_with_groq(input_msg)[\"result\"]\n",
    "#     return {\"messages\": state[\"messages\"] + [(\"assistant\", rag_response)], \"route\": \"rag\"}"
   ]
  },
  {
   "cell_type": "markdown",
   "id": "91f7db15",
   "metadata": {},
   "source": [
    "Plan Explainer & Marketer"
   ]
  },
  {
   "cell_type": "code",
   "execution_count": 51,
   "id": "69f22c74",
   "metadata": {},
   "outputs": [],
   "source": [
    "from langchain_core.output_parsers import StrOutputParser\n",
    "\n",
    "plan_explainer_parser = StrOutputParser()"
   ]
  },
  {
   "cell_type": "code",
   "execution_count": 52,
   "id": "14c025e2",
   "metadata": {},
   "outputs": [],
   "source": [
    "def Plan_Explainer(state: AgentState) -> AgentState:\n",
    "    print(\"--------------------------Plan Explainer---------------------------\")\n",
    "\n",
    "    query = state.get(\"user_query\")\n",
    "    intent = \"plan\"\n",
    "    customer_id = state.get(\"customer_id\")\n",
    "    customer_data = state.get(\"customer_data\")\n",
    "\n",
    "    plan_info = \"\"\"\n",
    "    1. Basic Plan: $20–$30/month, includes 5 GB high-speed data, unlimited calls, 1000 SMS/month, 128 Kbps after limit, no roaming.\n",
    "    2. Unlimited Plan: $30–$50/month, truly unlimited data (FUP after 50 GB), unlimited calls/SMS, 1 Mbps post-FUP, 5G, cloud storage, hotspot.\n",
    "    3. Family Plan: $60–$100/month for 3–5 lines, shared 50–100 GB data, unlimited calls/SMS, 256 Kbps post-limit, includes parental controls.\n",
    "    4. Premium Plan: $40–$60/month, unlimited high-speed (throttled after 100 GB), includes international calls, priority support, streaming.\n",
    "    5. Data-Only Plan: $15–$25/month, 10–20 GB high-speed data, no calls/SMS, 512 Kbps post-limit, supports tethering and hotspots.\n",
    "    \"\"\"\n",
    "    format_instructions = \"\"\"\n",
    "    Return a JSON object with the following keys:\n",
    "    - plan_details\n",
    "    - query_response\n",
    "    - cross_sell_recommendation\n",
    "    - reasoning\n",
    "    \"\"\"\n",
    "\n",
    "    template = \"\"\"\n",
    "    You are a telecom marketing assistant. Your job is to address the user by name and explain the user's current plan clearly and offer an upgrade suggestion **only if appropriate**.\n",
    "\n",
    "    You must perform the following tasks:\n",
    "    1. Summarize the customer's **current plan** in simple, friendly language.\n",
    "    2. Explain how the plan features address the user's query.\n",
    "    3. If the plan is **outdated**, **limited**, or **not optimal** based on their usage, suggest an **upgrade** (cross-sell) with a compelling reason.\n",
    "    4. Be helpful, not pushy. Do not upsell if the user is already on a top-tier plan\n",
    "    5. Keep the intent in mind while responding.\n",
    "    6. Do not change the intent reposnse, keep it as such like \"Plan\" or \"Complaint\", Don't add any additional words to it.\n",
    "\n",
    "    Use the information below:\n",
    "\n",
    "    ---\n",
    "    **Available Data**:\n",
    "    {plan_info}\n",
    "\n",
    "    **Customer Data**:\n",
    "    {customer_data}\n",
    "\n",
    "    **User Query**:\n",
    "    {query}\n",
    "\n",
    "    **Intent**: {intent}  \n",
    "    \n",
    "    **Customer ID**: {customer_id}\n",
    "\n",
    "    Given a customer's current data, current and query, respond in the following JSON format:\n",
    "\n",
    "    {{\n",
    "    \"plan_details\": \"...\",\n",
    "    \"query_response\": \"...\",\n",
    "    \"cross_sell_recommendation\": \"...\",\n",
    "    \"reasoning\": \"...\"\n",
    "    }}\n",
    "    \"\"\"\n",
    "\n",
    "    prompt = PromptTemplate(\n",
    "        input_variables=[\"customer_data\", \"query\", \"intent\", \"customer_id\", \"plan_info\"],\n",
    "        template=template\n",
    "    )\n",
    "\n",
    "    chain = prompt | llm | plan_explainer_parser\n",
    "    response = chain.invoke({\n",
    "        \"query\": query,\n",
    "        \"customer_data\": customer_data,\n",
    "        \"intent\": intent,\n",
    "        \"customer_id\": customer_id,\n",
    "        \"plan_info\": plan_info\n",
    "    })\n",
    "\n",
    "    print(\"Plan Explainer Response:\", response)\n",
    "\n",
    "    json_match = re.search(r\"\\{[\\s\\S]*\\}\", response)\n",
    "    if json_match:\n",
    "        json_part = json_match.group(0)\n",
    "        try:\n",
    "            response = json.loads(json_part)\n",
    "        except json.JSONDecodeError as e:\n",
    "            print(\"JSON parsing error:\", e)\n",
    "            return state\n",
    "    else:\n",
    "        print(\"No JSON object found in response.\")\n",
    "        return state\n",
    "\n",
    "    return {\n",
    "            \"messages\": state[\"messages\"] + [AIMessage(content=str(response))],\n",
    "            \"plan_details\": response[\"plan_details\"],\n",
    "            \"query_response\": response[\"query_response\"],\n",
    "            \"cross_sell_recommendation\": response[\"cross_sell_recommendation\"],\n",
    "            \"reasoning\": response[\"reasoning\"],\n",
    "            \"intent\": \"plan\",\n",
    "            \"customer_id\": customer_id\n",
    "            }\n"
   ]
  },
  {
   "cell_type": "code",
   "execution_count": 53,
   "id": "61347ad2",
   "metadata": {},
   "outputs": [
    {
     "name": "stdout",
     "output_type": "stream",
     "text": [
      "--------------------------Plan Explainer---------------------------\n",
      "Plan Explainer Response: <think>\n",
      "Okay, so I need to help Ravi Kumar with his telecom plan. He's on the Basic Plan right now, which costs him $28 a month. Let me see what that includes. The Basic Plan offers 5 GB of high-speed data, unlimited calls, and 1000 SMS each month. After he uses up the 5 GB, his speed drops to 128 Kbps, which is pretty slow. He doesn't get any roaming either.\n",
      "\n",
      "Looking at his usage, Ravi uses 12 GB of data each month. That's way more than the 5 GB his plan provides. No wonder he's getting overage charges! He's also making 800 calls and sending 500 SMS, which is within the unlimited calls and SMS that his plan offers. So, the issue is clearly with the data.\n",
      "\n",
      "His query is about getting a lot of overage charges and asking if there's a better plan for heavy data users. So, I need to address his current plan first, explain how it's not meeting his needs, and then suggest an upgrade if appropriate.\n",
      "\n",
      "The Basic Plan is limited because it only has 5 GB of high-speed data. Ravi is exceeding that by 7 GB, which is why he's facing overage charges. Since he's a heavy data user, he needs a plan that offers more high-speed data without the extra charges.\n",
      "\n",
      "Looking at the available plans, the Unlimited Plan seems like a good fit. It offers truly unlimited data with a fair usage policy after 50 GB, which is way more than Ravi's current usage. It also includes unlimited calls and SMS, which he's already using within the limits. The speed after the FUP is 1 Mbps, which is better than the Basic Plan's 128 Kbps. Plus, it includes 5G, cloud storage, and hotspot, which are nice extras.\n",
      "\n",
      "The Premium Plan is another option, but it's more expensive and offers features like international calls and priority support, which Ravi might not need. The Family Plan is for multiple lines, and he doesn't mention needing that. The Data-Only Plan doesn't include calls or SMS, so that's not suitable since he uses those.\n",
      "\n",
      "So, the Unlimited Plan is the best option for Ravi. It provides enough data to cover his usage without overage charges and offers better speeds and additional features. I should present this as a suggestion, explaining how it addresses his overage issues and the benefits he'll get. I need to make sure it's helpful without being pushy, so I'll phrase it as a recommendation rather than a pushy sales pitch.\n",
      "\n",
      "I should structure the response by first summarizing his current plan, then explaining how it doesn't meet his data needs, and then suggesting the Unlimited Plan with the reasons why it's better for him. I'll make sure to keep the language friendly and clear, addressing him by name to make it personal.\n",
      "</think>\n",
      "\n",
      "{\n",
      "    \"plan_details\": \"Hi Ravi Kumar, your current Basic Plan costs $28/month and includes 5 GB of high-speed data, unlimited calls, and 1000 SMS. After 5 GB, your speed drops to 128 Kbps.\",\n",
      "    \"query_response\": \"Your plan's 5 GB data limit is causing overage charges since you use 12 GB/month. The Unlimited Plan offers 50 GB of high-speed data, which would cover your usage and eliminate overages.\",\n",
      "    \"cross_sell_recommendation\": \"I recommend upgrading to the Unlimited Plan for $40–$50/month. It provides 50 GB of high-speed data, unlimited calls/SMS, 1 Mbps post-FUP speed, 5G, cloud storage, and hotspot.\",\n",
      "    \"reasoning\": \"The Unlimited Plan addresses Ravi's heavy data usage, eliminating overage charges and offering better speeds and features.\"\n",
      "}\n"
     ]
    },
    {
     "data": {
      "text/plain": [
       "{'messages': [AIMessage(content='{\\'plan_details\\': \\'Hi Ravi Kumar, your current Basic Plan costs $28/month and includes 5 GB of high-speed data, unlimited calls, and 1000 SMS. After 5 GB, your speed drops to 128 Kbps.\\', \\'query_response\\': \"Your plan\\'s 5 GB data limit is causing overage charges since you use 12 GB/month. The Unlimited Plan offers 50 GB of high-speed data, which would cover your usage and eliminate overages.\", \\'cross_sell_recommendation\\': \\'I recommend upgrading to the Unlimited Plan for $40–$50/month. It provides 50 GB of high-speed data, unlimited calls/SMS, 1 Mbps post-FUP speed, 5G, cloud storage, and hotspot.\\', \\'reasoning\\': \"The Unlimited Plan addresses Ravi\\'s heavy data usage, eliminating overage charges and offering better speeds and features.\"}', additional_kwargs={}, response_metadata={})],\n",
       " 'plan_details': 'Hi Ravi Kumar, your current Basic Plan costs $28/month and includes 5 GB of high-speed data, unlimited calls, and 1000 SMS. After 5 GB, your speed drops to 128 Kbps.',\n",
       " 'query_response': \"Your plan's 5 GB data limit is causing overage charges since you use 12 GB/month. The Unlimited Plan offers 50 GB of high-speed data, which would cover your usage and eliminate overages.\",\n",
       " 'cross_sell_recommendation': 'I recommend upgrading to the Unlimited Plan for $40–$50/month. It provides 50 GB of high-speed data, unlimited calls/SMS, 1 Mbps post-FUP speed, 5G, cloud storage, and hotspot.',\n",
       " 'reasoning': \"The Unlimited Plan addresses Ravi's heavy data usage, eliminating overage charges and offering better speeds and features.\",\n",
       " 'intent': 'plan',\n",
       " 'customer_id': 'CUST1234'}"
      ]
     },
     "execution_count": 53,
     "metadata": {},
     "output_type": "execute_result"
    }
   ],
   "source": [
    "#check\n",
    "\n",
    "sample_state = {\n",
    "    \"user_query\": \"I'm getting a lot of overage charges lately. Is there a better plan for heavy data users?\",\n",
    "    \"intent\": \"Plan\",\n",
    "    \"customer_id\": \"CUST1234\",\n",
    "    \"customer_data\": {\n",
    "        \"name\": \"Ravi Kumar\",\n",
    "        \"current_plan\": \"Basic Plan\",\n",
    "        \"monthly_usage_gb\": 12,\n",
    "        \"calls_per_month\": 800,\n",
    "        \"sms_per_month\": 500,\n",
    "        \"monthly_bill_usd\": 28\n",
    "    },\n",
    "    \"messages\": []\n",
    "}\n",
    "Plan_Explainer(sample_state)"
   ]
  },
  {
   "cell_type": "code",
   "execution_count": 61,
   "id": "e1762976",
   "metadata": {},
   "outputs": [],
   "source": [
    "from langchain.prompts import PromptTemplate\n",
    "from langchain_core.messages import AIMessage\n",
    "\n",
    "def summarizer_agent(state: AgentState) -> AgentState:\n",
    "    print(\"--------------------------Summarizer Node---------------------------\")\n",
    "\n",
    "    intent = state.get(\"intent\", \"\").lower()\n",
    "    print(\"Intent:\", intent)\n",
    "\n",
    "    customer_id = state.get(\"customer_id\", \"Unknown\")\n",
    "    query = state.get(\"user_query\", \"N/A\")  # ✅ corrected to user_query\n",
    "    query_response = state.get(\"query_response\", \"N/A\")\n",
    "    plan_details = state.get(\"plan_details\", \"N/A\")  # ✅ use this consistently\n",
    "    cross_sell_recommendation = state.get(\"cross_sell_recommendation\", \"N/A\")\n",
    "\n",
    "    base_inputs = {\n",
    "        \"customer_id\": customer_id,\n",
    "        \"query\": query,\n",
    "    }\n",
    "\n",
    "    if intent == \"plan\":\n",
    "        template = \"\"\"\n",
    "You are a warm, friendly telecom assistant. Write a helpful and human-like message in response to the user's plan concerns.\n",
    "\n",
    "- Begin with a friendly greeting and apology (include emoji like 👋 and 😊).\n",
    "- Mention the current plan (use what's given in \"Plan Details\").\n",
    "- Acknowledge the user's concern and recommend an upgraded plan if relevant.\n",
    "- Explain benefits in a simple and friendly tone.\n",
    "- End with a question like: \"Would you like me to help you upgrade or explore other options?\"\n",
    "\n",
    "Compose the message in a conversational tone. DO NOT include <think> or reasoning steps.\n",
    "\n",
    "---\n",
    "Customer ID: {customer_id}\n",
    "User Query: {query}\n",
    "Plan Details: {plan_details}\n",
    "Query Response: {query_response}\n",
    "Recommended Upgrade: {cross_sell_recommendation}\n",
    "        \"\"\"\n",
    "\n",
    "        inputs = {\n",
    "            **base_inputs,\n",
    "            \"user_query\": query,  #  corrected to user_query\n",
    "            \"plan_details\": plan_details, \n",
    "            \"query_response\": query_response,\n",
    "            \"cross_sell_recommendation\": cross_sell_recommendation,\n",
    "            \n",
    "        }\n",
    "\n",
    "    elif intent == \"complaint\":\n",
    "        grievance_context = state.get(\"retrieved_context\", \"\")\n",
    "        complaint_response = state.get(\"complaint_resolution\", \"\")\n",
    "\n",
    "        template = \"\"\"\n",
    "You are a kind and professional telecom assistant helping a customer with a complaint.\n",
    "\n",
    "\n",
    "Your goal is to:\n",
    "- Understand the user’s concern from their query.\n",
    "- Read the retrieved context (which may include a general solution from other similar cases).\n",
    "- Use the resolution (if any) to provide a reassuring and helpful response.\n",
    "- Empathize with the customer. Keep your tone friendly, polite, and professional.\n",
    "- DO NOT refer to the context or resolution as being from another user — just use it to help you answer.\n",
    "- DO NOT mention bullet points, tags, or internal data. Just give a natural, conversational response in 3–4 lines.\n",
    "\n",
    "---\n",
    "Customer ID: {customer_id}\n",
    "User Query: {query}\n",
    "Context: {grievance_context}\n",
    "Resolution: {complaint_response}\n",
    "        \"\"\"\n",
    "\n",
    "        inputs = {\n",
    "            **base_inputs,\n",
    "            \"grievance_context\": grievance_context,\n",
    "            \"complaint_response\": complaint_response\n",
    "        }\n",
    "\n",
    "    else:\n",
    "        template = \"\"\"\n",
    "You are a friendly assistant. Acknowledge the user's query and let them know you'll look into it.\n",
    "\n",
    "---\n",
    "Customer ID: {customer_id}\n",
    "User Query: {query}\n",
    "        \"\"\"\n",
    "        inputs = base_inputs\n",
    "\n",
    "    prompt = PromptTemplate.from_template(template)\n",
    "    chain = prompt | llm\n",
    "    response = chain.invoke(inputs)\n",
    "\n",
    "    summary_text = response.content if hasattr(response, \"content\") else str(response)\n",
    "    print(\"Generated Summary:\", summary_text)\n",
    "\n",
    "    return {\n",
    "        \"messages\": state.get(\"messages\", []) + [AIMessage(content=summary_text)],\n",
    "        \"summary\": summary_text\n",
    "    }\n"
   ]
  },
  {
   "cell_type": "markdown",
   "id": "53e97720",
   "metadata": {},
   "source": [
    "Router"
   ]
  },
  {
   "cell_type": "code",
   "execution_count": 62,
   "id": "bef3a6b9",
   "metadata": {},
   "outputs": [],
   "source": [
    "def Router(state: AgentState) -> str:\n",
    "    \"\"\"\n",
    "    Determines the next node to route to based on the user's intent.\n",
    "\n",
    "    Inputs:\n",
    "        - state (AgentState): Should include key 'intent'\n",
    "\n",
    "    Returns:\n",
    "        - str: The name of the next node\n",
    "    \"\"\"\n",
    "    print(\"--------------------------Router Node---------------------------\")\n",
    "\n",
    "    intent = state.get(\"intent\", \"\").lower()\n",
    "\n",
    "    if intent == \"plan\":\n",
    "        return \"Plan_Explainer\"\n",
    "    elif intent == \"complaint\":\n",
    "        return \"RAG_agent\"\n",
    "    else:\n",
    "        return \"summarizer_agent\"  # You can also add a separate fallback node if needed\n"
   ]
  },
  {
   "cell_type": "markdown",
   "id": "30ad9fbd",
   "metadata": {},
   "source": [
    "Implementing Langgraph"
   ]
  },
  {
   "cell_type": "code",
   "execution_count": null,
   "id": "e384a97d",
   "metadata": {},
   "outputs": [
    {
     "data": {
      "text/plain": [
       "<langgraph.graph.state.StateGraph at 0x1db8afbffd0>"
      ]
     },
     "execution_count": 63,
     "metadata": {},
     "output_type": "execute_result"
    }
   ],
   "source": [
    "app_workflow = StateGraph(AgentState)\n",
    "\n",
    "# Add nodes\n",
    "app_workflow.add_node(\"supervisor_agent\", supervisor_node)\n",
    "app_workflow.add_node(\"SQL_agent\", SQL_agent)\n",
    "app_workflow.add_node(\"RAG_agent\", RAG_agent)\n",
    "app_workflow.add_node(\"Plan_Explainer\", Plan_Explainer)\n",
    "app_workflow.add_node(\"summarizer_agent\", summarizer_agent)  \n",
    "\n",
    "# Define edges\n",
    "app_workflow.add_edge(START, \"supervisor_agent\")\n",
    "app_workflow.add_edge(\"supervisor_agent\", \"SQL_agent\")\n",
    "\n",
    "# Conditional routing from SQL_agent\n",
    "app_workflow.add_conditional_edges(\n",
    "    \"SQL_agent\",\n",
    "    Router,\n",
    "    {\n",
    "        \"Plan_Explainer\": \"Plan_Explainer\",\n",
    "        \"RAG_agent\": \"RAG_agent\"\n",
    "    }\n",
    ")\n",
    "\n",
    "# Route both Plan and Complaint results to summarizer before END\n",
    "app_workflow.add_edge(\"Plan_Explainer\", \"summarizer_agent\")\n",
    "app_workflow.add_edge(\"RAG_agent\", \"summarizer_agent\")\n",
    "\n",
    "#Final edge from summarizer to END\n",
    "app_workflow.add_edge(\"summarizer_agent\", END)\n",
    "\n"
   ]
  },
  {
   "cell_type": "code",
   "execution_count": 64,
   "id": "6d9210a4",
   "metadata": {},
   "outputs": [],
   "source": [
    "app = app_workflow.compile()"
   ]
  },
  {
   "cell_type": "code",
   "execution_count": 65,
   "id": "5e63ed44",
   "metadata": {},
   "outputs": [
    {
     "data": {
      "image/png": "[encoded data removed]",
      "text/plain": [
       "<IPython.core.display.Image object>"
      ]
     },
     "metadata": {},
     "output_type": "display_data"
    }
   ],
   "source": [
    "from IPython.display import display, Image\n",
    "\n",
    "display(Image(app.get_graph().draw_mermaid_png()))"
   ]
  },
  {
   "cell_type": "markdown",
   "id": "96d6f5a7",
   "metadata": {},
   "source": [
    "Intent = \"plan\""
   ]
  },
  {
   "cell_type": "code",
   "execution_count": 30,
   "id": "74849f51",
   "metadata": {},
   "outputs": [],
   "source": [
    "sample_state = {\n",
    "    \"messages\": [\n",
    "        HumanMessage(content=\"Hi my customer id is CUST1007. I would like to check for alternative options from my currently subscribed plan to have more calls and data. I am not having extra data\")\n",
    "    ]\n",
    "}"
   ]
  },
  {
   "cell_type": "markdown",
   "id": "161f0cd6",
   "metadata": {},
   "source": [
    "Intent = \"Complaint\""
   ]
  },
  {
   "cell_type": "code",
   "execution_count": 66,
   "id": "7409afc4",
   "metadata": {},
   "outputs": [],
   "source": [
    "sample_state = {\n",
    "    \"messages\": [\n",
    "        HumanMessage(content=\"I got to dispute a phone bill, I need help\")\n",
    "    ]\n",
    "}"
   ]
  },
  {
   "cell_type": "code",
   "execution_count": 67,
   "id": "612a13d7",
   "metadata": {},
   "outputs": [
    {
     "name": "stdout",
     "output_type": "stream",
     "text": [
      "--------------------------Supervisor---------------------------\n",
      "Parsed Response:  customer_id='CUST1234' intent='Complaint' query='I got to dispute a phone bill, I need help' Reasoning='The user is reporting a billing issue, which falls under the Complaint category.'\n",
      "------------ SQL Agent Node ------------\n",
      "\n",
      "\n",
      "\u001b[1m> Entering new AgentExecutor chain...\u001b[0m\n",
      "\u001b[32;1m\u001b[1;3mThought: I need to construct a SQL query to select customer details for a specific ID from the 'customers' table. \n",
      "Action: sql_db_query_checker\n",
      "Action Input: SELECT * FROM customers WHERE customer_id = 'CUST1234'\u001b[0m\n",
      "Observation: \u001b[36;1m\u001b[1;3mSELECT * FROM customers WHERE customer_id = 'CUST1234' \n",
      "\u001b[0m\n",
      "Thought:\u001b[32;1m\u001b[1;3mThought: The query looks correct. I can execute it now.\n",
      "Action: sql_db_query\n",
      "Action Input: SELECT * FROM customers WHERE customer_id = 'CUST1234'\u001b[0m\n",
      "Observation: \u001b[36;1m\u001b[1;3mError: (sqlite3.OperationalError) no such table: customers\n",
      "[SQL: SELECT * FROM customers WHERE customer_id = 'CUST1234']\n",
      "(Background on this error at: https://sqlalche.me/e/20/e3q8)\u001b[0m\n",
      "Thought:\u001b[32;1m\u001b[1;3mThought: I need to find out what tables exist in the database.\n",
      "Action: sql_db_list_tables\n",
      "Action Input: \u001b[0m\n",
      "Observation: \u001b[38;5;200m\u001b[1;3mtelecom_customer_table\u001b[0m\n",
      "Thought:\u001b[32;1m\u001b[1;3mThought: I need to construct a SQL query to select customer details for a specific ID from the 'telecom_customer_table' table. \n",
      "Action: sql_db_query_checker\n",
      "Action Input: SELECT * FROM telecom_customer_table WHERE customer_id = 'CUST1234'\u001b[0m\n",
      "Observation: \u001b[36;1m\u001b[1;3mSELECT * FROM telecom_customer_table WHERE customer_id = 'CUST1234' \n",
      "\u001b[0m\n",
      "Thought:\u001b[32;1m\u001b[1;3mThought:Thought: The query looks correct. I can execute it now.\n",
      "Action: sql_db_query\n",
      "Action Input: SELECT * FROM telecom_customer_table WHERE customer_id = 'CUST1234'\u001b[0m\n",
      "Observation: \u001b[36;1m\u001b[1;3mError: (sqlite3.OperationalError) no such column: customer_id\n",
      "[SQL: SELECT * FROM telecom_customer_table WHERE customer_id = 'CUST1234']\n",
      "(Background on this error at: https://sqlalche.me/e/20/e3q8)\u001b[0m\n",
      "Thought:\u001b[32;1m\u001b[1;3mThought: I need to check the schema of the 'telecom_customer_table' to find the correct column name for the customer ID.\n",
      "Action: sql_db_schema\n",
      "Action Input: telecom_customer_table\u001b[0m\n",
      "Observation: \u001b[33;1m\u001b[1;3m\n",
      "CREATE TABLE telecom_customer_table (\n",
      "\t\"Customer ID\" TEXT, \n",
      "\t\"Customer Name\" TEXT, \n",
      "\t\"Age\" INTEGER, \n",
      "\t\"Gender\" TEXT, \n",
      "\t\"Location\" TEXT, \n",
      "\t\"Plan Subscribed\" TEXT, \n",
      "\t\"Device Used\" TEXT, \n",
      "\t\"Plan Details\" TEXT, \n",
      "\t\"Network Type\" TEXT, \n",
      "\t\"Join Date\" TEXT, \n",
      "\t\"Recent Issue Reported\" TEXT, \n",
      "\t\"Response Provided\" TEXT\n",
      ")\n",
      "\n",
      "/*\n",
      "3 rows from telecom_customer_table table:\n",
      "Customer ID\tCustomer Name\tAge\tGender\tLocation\tPlan Subscribed\tDevice Used\tPlan Details\tNetwork Type\tJoin Date\tRecent Issue Reported\tResponse Provided\n",
      "CUST1000\tRicky Ward\t44\tNon-Binary\tSethhaven\tBasic Plan\tSamsung Galaxy S22\tCosts $20to“$30/month, includes 5 GB high-speed data, unlimited calls, 1000 SMS/month, 128 Kbps afte\tLTE\t21-02-2025\tSlow internet speed\tWe are sorry. We will ship a new one.\n",
      "CUST1001\tMallory Graham\t18\tFemale\tWest Garymouth\tUnlimited Plan\tSamsung Galaxy S22\tCosts $30to“$50/month, truly unlimited data (FUP after ~50 GB), unlimited calls & SMS, 1 Mbps after \tLTE\t26-09-2024\tForgot password\tWe're expanding network towers to improve coverage.\n",
      "CUST1002\tTravis Howe\t25\tMale\tKimberlyton\tFamily Plan\tiPhone 14\tCosts $60to“$100/month (3to“5 lines), shared 50to“100 GB data, unlimited calls & SMS for all lines, \tLTE\t13-02-2024\tCannot make international calls\tWe have escalated the voicemail issue to our tech team.\n",
      "*/\u001b[0m\n",
      "Thought:\u001b[32;1m\u001b[1;3mThought: The customer ID column is named \"Customer ID\" in the schema. I need to update my query.\n",
      "Action: sql_db_query_checker\n",
      "Action Input: SELECT * FROM telecom_customer_table WHERE \"Customer ID\" = 'CUST1234'\u001b[0m\n",
      "Observation: \u001b[36;1m\u001b[1;3mSELECT * FROM telecom_customer_table WHERE \"Customer ID\" = 'CUST1234' \n",
      "\u001b[0m\n",
      "Thought:\u001b[32;1m\u001b[1;3mThought:Thought: The query looks correct. I can execute it now.\n",
      "Action: sql_db_query\n",
      "Action Input: SELECT * FROM telecom_customer_table WHERE \"Customer ID\" = 'CUST1234'\u001b[0m\n",
      "Observation: \u001b[36;1m\u001b[1;3m\u001b[0m\n",
      "Thought:\u001b[32;1m\u001b[1;3mThought: I now know the final answer\n",
      "Final Answer: {\"Customer ID\": \"CUST1234\", \"Customer Name\": null, \"Age\": null, \"Gender\": null, \"Location\": null, \"Plan Subscribed\": null, \"Device Used\": null, \"Plan Details\": null, \"Network Type\": null, \"Join Date\": null, \"Recent Issue Reported\": null, \"Response Provided\": null} \n",
      "\n",
      "\n",
      "\u001b[0m\n",
      "\n",
      "\u001b[1m> Finished chain.\u001b[0m\n",
      "--------------------------Router Node---------------------------\n",
      "--------------------------RAG Agent Node---------------------------\n",
      "Retrieved context for query 'I got to dispute a phone bill, I need help':\n",
      "instruction: I'd like to dispute a fucking phone bill, how to do it ?\n",
      "intent: dispute_invoice\n",
      "category: BILLING\n",
      "tags: BCILPWZ\n",
      "response: If you believe there is an error in your bill and wish to initiate a dispute, please adhere to the following steps:\n",
      "\n",
      "--------------------------Summarizer Node---------------------------\n",
      "Intent: complaint\n",
      "Generated Summary: <think>\n",
      "Okay, so the customer wants to dispute their phone bill. They mentioned they need help, so I should start by acknowledging their concern and showing empathy. I need to provide clear steps without making it sound too technical. \n",
      "\n",
      "First, I'll suggest they review their bill to identify any errors or unexpected charges. Then, they should contact customer support to discuss the issue. If that doesn't resolve it, escalating to the dispute team would be the next step. I should keep the tone friendly and reassuring, letting them know I'm here to assist further if needed.\n",
      "</think>\n",
      "\n",
      "I'm sorry to hear about your concern with your phone bill. To assist you, please review your bill to identify any discrepancies. You can contact our customer support team to discuss the issue and they'll guide you through the dispute process. If needed, we can escalate it to our dispute resolution team. Let me know if you need any further help!\n"
     ]
    }
   ],
   "source": [
    "from langchain_core.messages import HumanMessage\n",
    "\n",
    "flow_response = app.invoke(sample_state)"
   ]
  },
  {
   "cell_type": "markdown",
   "id": "b13d2459",
   "metadata": {},
   "source": [
    "Github Push"
   ]
  },
  {
   "cell_type": "code",
   "execution_count": null,
   "id": "64ec43d3",
   "metadata": {},
   "outputs": [
    {
     "name": "stdout",
     "output_type": "stream",
     "text": [
      "--------------------------Summarizer Node---------------------------\n",
      "Intent: plan\n",
      "Generated Summary: <think>\n",
      "Okay, so I need to help this user who's concerned about their current telecom plan. They mentioned they're on the Basic 2GB/day plan and want more calls and data without extra charges. \n",
      "\n",
      "First, I should start with a friendly greeting and an apology to show empathy. Using emojis like 👋 and 😊 can make the message feel warmer. \n",
      "\n",
      "Next, I need to acknowledge their current plan, the Basic 2GB/day, and express understanding that they're looking for more data and calls. \n",
      "\n",
      "Then, I should recommend an upgrade to the Premium 5GB/day plan. I should explain the benefits in a simple way, like better speed and more data, which would help them stay connected without worrying about running out. \n",
      "\n",
      "I should keep the tone conversational and avoid any technical jargon. Finally, I'll end with a question to see if they want help upgrading or exploring other options. \n",
      "\n",
      "I need to make sure the message flows naturally and feels helpful without being pushy. Let me put this all together in a friendly and approachable way.\n",
      "</think>\n",
      "\n",
      "👋 Hi there! 😊\n",
      "\n",
      "I see you're currently on our Basic 2GB/day plan, which is valid for 28 days. I understand you're looking for more data and call options without any extra charges. \n",
      "\n",
      "If you're finding the 2GB/day limit a bit restrictive, I recommend upgrading to our Premium 5GB/day plan. This plan offers more data and faster speeds, which should help you stay connected without worrying about running out of data.\n",
      "\n",
      "Would you like me to help you upgrade or explore other options?\n",
      "\n",
      "--- Summary Output ---\n",
      "<think>\n",
      "Okay, so I need to help this user who's concerned about their current telecom plan. They mentioned they're on the Basic 2GB/day plan and want more calls and data without extra charges. \n",
      "\n",
      "First, I should start with a friendly greeting and an apology to show empathy. Using emojis like 👋 and 😊 can make the message feel warmer. \n",
      "\n",
      "Next, I need to acknowledge their current plan, the Basic 2GB/day, and express understanding that they're looking for more data and calls. \n",
      "\n",
      "Then, I should recommend an upgrade to the Premium 5GB/day plan. I should explain the benefits in a simple way, like better speed and more data, which would help them stay connected without worrying about running out. \n",
      "\n",
      "I should keep the tone conversational and avoid any technical jargon. Finally, I'll end with a question to see if they want help upgrading or exploring other options. \n",
      "\n",
      "I need to make sure the message flows naturally and feels helpful without being pushy. Let me put this all together in a friendly and approachable way.\n",
      "</think>\n",
      "\n",
      "👋 Hi there! 😊\n",
      "\n",
      "I see you're currently on our Basic 2GB/day plan, which is valid for 28 days. I understand you're looking for more data and call options without any extra charges. \n",
      "\n",
      "If you're finding the 2GB/day limit a bit restrictive, I recommend upgrading to our Premium 5GB/day plan. This plan offers more data and faster speeds, which should help you stay connected without worrying about running out of data.\n",
      "\n",
      "Would you like me to help you upgrade or explore other options?\n",
      "\n",
      "--- Messages ---\n",
      "[AIMessage(content=\"<think>\\nOkay, so I need to help this user who's concerned about their current telecom plan. They mentioned they're on the Basic 2GB/day plan and want more calls and data without extra charges. \\n\\nFirst, I should start with a friendly greeting and an apology to show empathy. Using emojis like 👋 and 😊 can make the message feel warmer. \\n\\nNext, I need to acknowledge their current plan, the Basic 2GB/day, and express understanding that they're looking for more data and calls. \\n\\nThen, I should recommend an upgrade to the Premium 5GB/day plan. I should explain the benefits in a simple way, like better speed and more data, which would help them stay connected without worrying about running out. \\n\\nI should keep the tone conversational and avoid any technical jargon. Finally, I'll end with a question to see if they want help upgrading or exploring other options. \\n\\nI need to make sure the message flows naturally and feels helpful without being pushy. Let me put this all together in a friendly and approachable way.\\n</think>\\n\\n👋 Hi there! 😊\\n\\nI see you're currently on our Basic 2GB/day plan, which is valid for 28 days. I understand you're looking for more data and call options without any extra charges. \\n\\nIf you're finding the 2GB/day limit a bit restrictive, I recommend upgrading to our Premium 5GB/day plan. This plan offers more data and faster speeds, which should help you stay connected without worrying about running out of data.\\n\\nWould you like me to help you upgrade or explore other options?\", additional_kwargs={}, response_metadata={})]\n"
     ]
    }
   ],
   "source": [
    "# # Mock setup\n",
    "# from langchain_core.prompts import PromptTemplate\n",
    "# from langchain_core.language_models.fake import FakeListLLM  # Use for testing if you don't have a real LLM\n",
    "\n",
    "# # Dummy LLM for testing\n",
    "# # llm = FakeListLLM(responses=[\"This is a test summary response.\"])\n",
    "# llm = ChatGroq(temperature=0, model_name=\"deepseek-r1-distill-llama-70b\", streaming=True)\n",
    "# # Define a fake AgentState (mock input)\n",
    "# AgentState = dict  # You can also use TypedDict if structured\n",
    "\n",
    "# # Sample test input (for a 'plan' intent)\n",
    "# test_state = {\n",
    "#     \"intent\": \"\",\n",
    "#     \"customer_id\": \"CUST1234\",\n",
    "#     \"user_query\": \"Hi my customer id is CUST1007. I would like to check for alternative options from my currently subscribed plan to have more calls and data. I am not having extra data\",\n",
    "#     \"plan_details\": \"Basic 2GB/day Plan, valid for 28 days.\",\n",
    "#     \"query_response\": \"We see you're on a basic plan with 2GB/day data usage.\",\n",
    "#     \"cross_sell_recommendation\": \"You may upgrade to our Premium 5GB/day Plan for better speed and data volume.\",\n",
    "#     \"messages\": []\n",
    "# }\n",
    "\n",
    "# # Your summarizer_agent function here (already defined above)\n",
    "\n",
    "# # Run the test\n",
    "# result = summarizer_agent(test_state)\n",
    "\n",
    "# # Print output\n",
    "# print(\"\\n--- Summary Output ---\")\n",
    "# print(result[\"summary\"])\n",
    "\n",
    "# print(\"\\n--- Messages ---\")\n",
    "# print(result[\"messages\"])\n",
    "\n",
    "# # def extract_summary_text(result: str) -> str:\n",
    "# #     # Split after </think>\n",
    "# #     if \"</think>\" in result:\n",
    "# #         return result.split(\"</think>\")[-1].split(\"---\")[0].strip()\n",
    "# #     return result  # fallback if no <think> tag\n",
    "# # print(\"\\n--- Extracted Summary Text ---\")\n",
    "# # print(extract_summary_text(result[\"summary\"]))\n"
   ]
  },
  {
   "cell_type": "code",
   "execution_count": null,
   "id": "df38c49f",
   "metadata": {},
   "outputs": [],
   "source": [
    "# for output in app.stream(sample_state):\n",
    "#     for key,value in output.items():\n",
    "#         print(f\"Output from {key} Node\")\n",
    "#         print(\"________________________________________________________________________\")\n",
    "#         print(value)\n",
    "#         print(\"\\n\")"
   ]
  },
  {
   "cell_type": "code",
   "execution_count": null,
   "id": "e5d5b1ce",
   "metadata": {},
   "outputs": [],
   "source": []
  }
 ],
 "metadata": {
  "kernelspec": {
   "display_name": ".venv",
   "language": "python",
   "name": "python3"
  },
  "language_info": {
   "codemirror_mode": {
    "name": "ipython",
    "version": 3
   },
   "file_extension": ".py",
   "mimetype": "text/x-python",
   "name": "python",
   "nbconvert_exporter": "python",
   "pygments_lexer": "ipython3",
   "version": "3.10.11"
  }
 },
 "nbformat": 4,
 "nbformat_minor": 5
}
